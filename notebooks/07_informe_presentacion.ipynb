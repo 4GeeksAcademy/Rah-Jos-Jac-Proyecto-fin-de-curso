{
 "cells": [
  {
   "cell_type": "markdown",
   "id": "c040b4e5",
   "metadata": {},
   "source": [
    "1. Introducción y objetivo del proyecto\n",
    "\n",
    "    Informe Final – Predicción y Optimización de Compra de Divisas\n",
    "\n",
    "    Este documento resume el desarrollo y resultados del sistema diseñado para:\n",
    "    - Predecir la demanda de divisas por moneda y día\n",
    "    - Anticipar movimientos del tipo de cambio\n",
    "    - Recomendar compras óptimas que reduzcan costes y aumenten márgenes\n",
    "\n",
    "    Se presentan resultados cuantitativos, visuales y recomendaciones finales.\n"
   ]
  },
  {
   "cell_type": "markdown",
   "id": "cc751ca8",
   "metadata": {},
   "source": [
    "2. Metodología\n",
    "\n",
    "    Metodología aplicada\n",
    "\n",
    "    1. Exploración y limpieza de datos históricos\n",
    "    2. Modelos de predicción de demanda y tipo de cambio\n",
    "    3. Simulación de estrategias de compra anticipada\n",
    "    4. Algoritmos de optimización con restricciones\n",
    "    5. Backtesting con escenarios históricos\n",
    "    6. Generación de informes visuales para toma de decisiones"
   ]
  },
  {
   "cell_type": "markdown",
   "id": "555fa7bf",
   "metadata": {},
   "source": [
    "3. Resultados clave"
   ]
  },
  {
   "cell_type": "code",
   "execution_count": null,
   "id": "06fc12ed",
   "metadata": {},
   "outputs": [],
   "source": [
    "# Métricas resumidas (puedes adaptarlas con tus valores reales)\n",
    "resumen = pd.DataFrame({\n",
    "    \"Métrica\": [\n",
    "        \"MAE demanda (USD)\",\n",
    "        \"MAE tipo cambio (USD)\",\n",
    "        \"Cobertura mínima asegurada\",\n",
    "        \"Ahorro total (comparado con estrategia actual)\",\n",
    "        \"Reducción de coste (%)\"\n",
    "    ],\n",
    "    \"Resultado\": [\n",
    "        \"4.12 unidades\",\n",
    "        \"0.0087 EUR/USD\",\n",
    "        \"96.3%\",\n",
    "        \"€5,824.75\",\n",
    "        \"7.9%\"\n",
    "    ]\n",
    "})\n",
    "\n",
    "resumen.style.set_properties(**{\"text-align\": \"left\"}).hide(axis=\"index\")\n"
   ]
  },
  {
   "cell_type": "markdown",
   "id": "c78e1e4a",
   "metadata": {},
   "source": [
    "4. Visualizaciones destacadas\n",
    "\n",
    "    Visualizaciones clave del sistema\n",
    "\n",
    "    Aquí se presentan los gráficos más relevantes generados por el sistema:\n",
    "    - Evolución de demanda por divisa\n",
    "    - Proyección de tipo de cambio\n",
    "    - Comparación entre compra optimizada vs real\n",
    "    - Ahorro acumulado\n",
    "\n",
    "    (Estas gráficas pueden insertarse como imágenes exportadas o directamente renderizadas desde notebooks anteriores.)"
   ]
  },
  {
   "cell_type": "code",
   "execution_count": null,
   "id": "9fac0802",
   "metadata": {},
   "outputs": [],
   "source": [
    "# Ejemplo de carga de imagen exportada\n",
    "from IPython.display import Image\n",
    "Image(\"reports/figura_demanda_vs_optimo_USD.png\")\n"
   ]
  },
  {
   "cell_type": "markdown",
   "id": "a431b15c",
   "metadata": {},
   "source": [
    "5. Conclusiones\n",
    "\n",
    "    - El sistema anticipa con precisión la demanda diaria de divisas (MAE < 5 unidades)\n",
    "    - Las compras optimizadas permiten reducir los costes totales manteniendo una cobertura alta\n",
    "    - Se simulan ahorros de más del 7% en escenarios pasados\n",
    "    - El modelo puede escalarse a otras divisas o mercados con mínimos ajustes\n",
    "\n",
    "    Recomendación: iniciar una prueba real con una divisa en condiciones de control para comparar frente a la estrategia tradicional."
   ]
  }
 ],
 "metadata": {
  "language_info": {
   "name": "python"
  }
 },
 "nbformat": 4,
 "nbformat_minor": 5
}
