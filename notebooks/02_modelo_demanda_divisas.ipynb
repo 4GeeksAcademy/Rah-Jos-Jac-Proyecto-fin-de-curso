{
 "cells": [
  {
   "cell_type": "markdown",
   "id": "6cc22967",
   "metadata": {},
   "source": [
    "1. Introducción\n",
    "\n",
    "    En este notebook desarrollaremos un modelo de predicción de la demanda por tipo de divisa. Utilizaremos técnicas de series temporales y aprendizaje supervisado para estimar la cantidad futura a comprar, optimizando inventario y decisiones operativas."
   ]
  },
  {
   "cell_type": "markdown",
   "id": "2f2934d6",
   "metadata": {},
   "source": [
    "2. Librerías"
   ]
  },
  {
   "cell_type": "code",
   "execution_count": null,
   "id": "670b88cd",
   "metadata": {},
   "outputs": [],
   "source": [
    "import pandas as pd\n",
    "import numpy as np\n",
    "import matplotlib.pyplot as plt\n",
    "import seaborn as sns\n",
    "import warnings\n",
    "warnings.filterwarnings(\"ignore\")\n",
    "\n",
    "from sklearn.model_selection import TimeSeriesSplit\n",
    "from sklearn.metrics import mean_absolute_error, mean_squared_error\n"
   ]
  },
  {
   "cell_type": "markdown",
   "id": "bb8daa9c",
   "metadata": {},
   "source": [
    "3. Carga y transformación de datos\n",
    "\n",
    "    Usamos el dataset procesado del paso anterior. Agregaremos la demanda por día y divisa, y crearemos variables adicionales útiles para el modelo (semana, mes, día de la semana, etc.)."
   ]
  },
  {
   "cell_type": "code",
   "execution_count": null,
   "id": "25ecfb1a",
   "metadata": {},
   "outputs": [],
   "source": [
    "df = pd.read_csv(\"data/operaciones_divisas.csv\")\n",
    "df[\"fecha\"] = pd.to_datetime(df[\"fecha\"])\n",
    "\n",
    "# Ejemplo: agrupar por divisa y día\n",
    "demanda_diaria = df.groupby([\"fecha\", \"divisa\"])[\"cantidad\"].sum().reset_index()\n"
   ]
  },
  {
   "cell_type": "markdown",
   "id": "63b13cac",
   "metadata": {},
   "source": [
    "4. Visualización de series por divisa\n",
    "\n",
    "    Graficamos la evolución temporal de cada divisa para identificar estacionalidades, picos o comportamientos erráticos."
   ]
  },
  {
   "cell_type": "code",
   "execution_count": null,
   "id": "af18e96c",
   "metadata": {},
   "outputs": [],
   "source": [
    "for div in demanda_diaria[\"divisa\"].unique():\n",
    "    temp = demanda_diaria[demanda_diaria[\"divisa\"] == div]\n",
    "    temp.set_index(\"fecha\")[\"cantidad\"].plot(figsize=(10,3), title=f\"Demanda diaria: {div}\")\n",
    "    plt.ylabel(\"Cantidad\")\n",
    "    plt.show()\n"
   ]
  },
  {
   "cell_type": "markdown",
   "id": "618d2700",
   "metadata": {},
   "source": [
    "5. Preparación para modelado por divisa\n",
    "\n",
    "    Aquí filtramos una divisa para entrenar un primer modelo. Posteriormente, este proceso podrá escalarse a otras divisas en bucle o por lote."
   ]
  },
  {
   "cell_type": "code",
   "execution_count": null,
   "id": "437ab788",
   "metadata": {},
   "outputs": [],
   "source": [
    "divisa_objetivo = \"USD\"\n",
    "serie = demanda_diaria[demanda_diaria[\"divisa\"] == divisa_objetivo].set_index(\"fecha\")[\"cantidad\"]\n"
   ]
  },
  {
   "cell_type": "markdown",
   "id": "9749f0e3",
   "metadata": {},
   "source": [
    "6. Entrenamiento con ARIMA o Prophet (opcional)\n",
    "\n",
    "    Entrenamiento del modelo de series temporales\n",
    "\n",
    "    Podemos usar un modelo como ARIMA si la serie es estacionaria, o Prophet si hay estacionalidad marcada y componentes no lineales.\n"
   ]
  },
  {
   "cell_type": "code",
   "execution_count": null,
   "id": "bf05c6cd",
   "metadata": {},
   "outputs": [],
   "source": [
    "# Ejemplo mínimo con Prophet\n",
    "from prophet import Prophet\n",
    "\n",
    "df_model = serie.reset_index().rename(columns={\"fecha\": \"ds\", \"cantidad\": \"y\"})\n",
    "modelo = Prophet()\n",
    "modelo.fit(df_model)\n",
    "future = modelo.make_future_dataframe(periods=30)\n",
    "forecast = modelo.predict(future)\n"
   ]
  },
  {
   "cell_type": "markdown",
   "id": "88f3ffbe",
   "metadata": {},
   "source": [
    "7. Evaluación del modelo\n",
    "\n",
    "    Evaluación y visualización de predicción\n",
    "\n",
    "    Mostramos la predicción frente a datos reales (si usamos train/test) y calculamos errores como MAE o RMSE.\n"
   ]
  },
  {
   "cell_type": "code",
   "execution_count": null,
   "id": "deb2d0e6",
   "metadata": {},
   "outputs": [],
   "source": [
    "modelo.plot(forecast)\n",
    "plt.title(f\"Predicción demanda futura - {divisa_objetivo}\")\n",
    "plt.show()\n"
   ]
  },
  {
   "cell_type": "markdown",
   "id": "2596670d",
   "metadata": {},
   "source": [
    "8. Próximos pasos\n",
    "\n",
    "\n",
    "\n",
    "- Repetir este análisis para otras divisas\n",
    "- Escalar el proceso en batch\n",
    "- Comparar modelos: Prophet vs. ARIMA vs. Random Forest\n",
    "- Alimentar la predicción al sistema de optimización de compras\n"
   ]
  }
 ],
 "metadata": {
  "language_info": {
   "name": "python"
  }
 },
 "nbformat": 4,
 "nbformat_minor": 5
}
