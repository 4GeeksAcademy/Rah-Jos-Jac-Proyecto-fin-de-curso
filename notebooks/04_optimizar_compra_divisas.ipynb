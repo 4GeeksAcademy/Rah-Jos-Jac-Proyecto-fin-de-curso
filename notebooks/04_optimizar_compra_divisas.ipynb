{
 "cells": [
  {
   "cell_type": "markdown",
   "id": "ecdbcdd9",
   "metadata": {},
   "source": [
    "1. Introducción\n",
    "\n",
    "    Optimización de Compra de Divisas\n",
    "\n",
    "    En este notebook combinamos los modelos predictivos para tomar decisiones automatizadas sobre:\n",
    "\n",
    "    - Qué cantidad de divisa comprar\n",
    "    - Cuándo comprarla\n",
    "    - Cuánto coste se espera asumir\n",
    "    - Cómo maximizar la ganancia con menor exposición al tipo de cambio\n",
    "\n",
    "    Usaremos simulaciones y algoritmos de optimización.\n",
    "\n"
   ]
  },
  {
   "cell_type": "markdown",
   "id": "fb608a58",
   "metadata": {},
   "source": [
    "2. Librerías"
   ]
  },
  {
   "cell_type": "code",
   "execution_count": null,
   "id": "b61bc6c5",
   "metadata": {},
   "outputs": [],
   "source": [
    "import pandas as pd\n",
    "import numpy as np\n",
    "import matplotlib.pyplot as plt\n",
    "import seaborn as sns\n",
    "\n",
    "from scipy.optimize import minimize\n"
   ]
  },
  {
   "cell_type": "markdown",
   "id": "be2cb31a",
   "metadata": {},
   "source": [
    "3. Carga de predicciones\n",
    "\n",
    "    Entrada: predicciones de demanda y tipo de cambio\n",
    "\n",
    "    Importamos las salidas generadas por los modelos anteriores:\n",
    "    - `pred_demanda.csv` → predicción de unidades por divisa y día\n",
    "    - `pred_tipo_cambio.csv` → predicción del tipo de cambio esperado\n"
   ]
  },
  {
   "cell_type": "code",
   "execution_count": null,
   "id": "4a3af63e",
   "metadata": {},
   "outputs": [],
   "source": [
    "pred_demanda = pd.read_csv(\"reports/pred_demanda.csv\", parse_dates=[\"fecha\"])\n",
    "pred_tasa = pd.read_csv(\"reports/pred_tipo_cambio.csv\", parse_dates=[\"fecha\"])\n"
   ]
  },
  {
   "cell_type": "markdown",
   "id": "db07ec63",
   "metadata": {},
   "source": [
    "4. Unión y preparación\n",
    "\n",
    "    Unificamos en una sola tabla\n",
    "\n",
    "    Fusionamos demanda esperada y tipo de cambio previsto, alineado por divisa y fecha.\n"
   ]
  },
  {
   "cell_type": "code",
   "execution_count": null,
   "id": "c7a1c0c8",
   "metadata": {},
   "outputs": [],
   "source": [
    "df_merged = pd.merge(pred_demanda, pred_tasa, on=[\"fecha\", \"divisa\"])\n",
    "df_merged[\"coste_estimado\"] = df_merged[\"cantidad_predicha\"] * df_merged[\"tasa_predicha\"]\n"
   ]
  },
  {
   "cell_type": "markdown",
   "id": "265c20d9",
   "metadata": {},
   "source": [
    "5. Formulación de la estrategia de compra\n",
    "\n",
    "Estrategia objetivo\n",
    "\n",
    "Queremos determinar cuánto comprar anticipadamente si:\n",
    "- Hay fluctuación en la tasa de cambio\n",
    "- Tenemos un presupuesto máximo disponible\n",
    "- Debemos cubrir al menos cierto porcentaje de la demanda esperada\n",
    "\n",
    "Probaremos modelos de asignación con restricciones.\n"
   ]
  },
  {
   "cell_type": "code",
   "execution_count": null,
   "id": "928dec68",
   "metadata": {},
   "outputs": [],
   "source": [
    "# Definición de función de coste simple\n",
    "def funcion_objetivo(cantidades, tasas):\n",
    "    return np.dot(cantidades, tasas)  # total gastado\n",
    "\n",
    "# Restricciones posibles:\n",
    "# - Cantidad no superior a la demanda prevista\n",
    "# - Presupuesto disponible máximo\n"
   ]
  },
  {
   "cell_type": "markdown",
   "id": "0bf06f0f",
   "metadata": {},
   "source": [
    "6. Optimización por divisa\n",
    "\n",
    "    Para una divisa concreta, buscamos:\n",
    "    - Minimizar el coste total de adquisición\n",
    "    - Cumplir con cobertura mínima de demanda\n",
    "    - Mantenernos bajo el presupuesto disponible\n"
   ]
  },
  {
   "cell_type": "code",
   "execution_count": null,
   "id": "750532a7",
   "metadata": {},
   "outputs": [],
   "source": [
    "# Ejemplo para EUR→USD\n",
    "subset = df_merged[df_merged[\"divisa\"] == \"USD\"].copy()\n",
    "tasas = subset[\"tasa_predicha\"].values\n",
    "demanda = subset[\"cantidad_predicha\"].values\n",
    "\n",
    "presupuesto_max = 100_000\n",
    "\n",
    "# Simulación: cubrir 90% de la demanda\n",
    "bounds = [(0, d) for d in demanda]\n",
    "res = minimize(funcion_objetivo, demanda*0.9, args=(tasas,), bounds=bounds,\n",
    "               constraints={\"type\":\"ineq\", \"fun\": lambda x: presupuesto_max - np.dot(x, tasas)})\n",
    "\n",
    "subset[\"compra_optima\"] = res.x\n"
   ]
  },
  {
   "cell_type": "markdown",
   "id": "acc70bec",
   "metadata": {},
   "source": [
    "7. Visualización de decisión de compra\n",
    "\n",
    "    Visualización del resultado de compra óptima\n",
    "\n",
    "    Comparamos la compra prevista por el modelo con la compra optimizada.\n"
   ]
  },
  {
   "cell_type": "code",
   "execution_count": null,
   "id": "d4c8b911",
   "metadata": {},
   "outputs": [],
   "source": [
    "plt.plot(subset[\"fecha\"], subset[\"cantidad_predicha\"], label=\"Demanda esperada\")\n",
    "plt.plot(subset[\"fecha\"], subset[\"compra_optima\"], label=\"Compra óptima\", linestyle=\"--\")\n",
    "plt.legend()\n",
    "plt.title(\"Optimización de compra – USD\")\n",
    "plt.show()\n"
   ]
  },
  {
   "cell_type": "markdown",
   "id": "12badae7",
   "metadata": {},
   "source": [
    "8. Exportación\n",
    "\n",
    "    Exportamos la tabla final con las decisiones óptimas de compra para cada divisa."
   ]
  },
  {
   "cell_type": "code",
   "execution_count": null,
   "id": "93ce715d",
   "metadata": {},
   "outputs": [],
   "source": [
    "df_merged.to_csv(\"reports/compras_optimizadas.csv\", index=False)"
   ]
  }
 ],
 "metadata": {
  "language_info": {
   "name": "python"
  }
 },
 "nbformat": 4,
 "nbformat_minor": 5
}
