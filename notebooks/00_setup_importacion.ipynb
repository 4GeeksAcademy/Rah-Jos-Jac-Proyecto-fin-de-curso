{
 "cells": [
  {
   "cell_type": "markdown",
   "id": "5f444420",
   "metadata": {},
   "source": [
    "1. Introducción"
   ]
  },
  {
   "cell_type": "markdown",
   "id": "954b86ac",
   "metadata": {},
   "source": [
    "Cuaderno 00 – Importación y Preparación Inicial de Datos\n",
    "\n",
    "Este notebook permite cargar de forma flexible cualquier archivo CSV, Excel o base de datos con el histórico de operaciones de una empresa de cambio de divisas.\n",
    "\n",
    "Su objetivo es:\n",
    "- Estandarizar el formato de columnas\n",
    "- Convertir fechas correctamente\n",
    "- Homogeneizar nombres de divisas\n",
    "- Preparar la base para el análisis en los siguientes notebooks\n"
   ]
  },
  {
   "cell_type": "markdown",
   "id": "9e6cadae",
   "metadata": {},
   "source": [
    "2. Carga de librerías"
   ]
  },
  {
   "cell_type": "code",
   "execution_count": 12,
   "id": "738e2476",
   "metadata": {},
   "outputs": [],
   "source": [
    "import pandas as pd\n",
    "import numpy as np\n",
    "import os\n",
    "from datetime import datetime\n",
    "\n",
    "# Visualización\n",
    "import matplotlib.pyplot as plt\n",
    "import seaborn as sns\n",
    "\n",
    "# Configuración visual (opcional)\n",
    "plt.style.use(\"ggplot\")\n",
    "sns.set_palette(\"Set2\")\n"
   ]
  },
  {
   "cell_type": "markdown",
   "id": "428757e1",
   "metadata": {},
   "source": [
    "3. Carga flexible de archivo\n",
    "\n",
    "    Cargar el archivo entregado:\n",
    "\n",
    "    Aquí puedes cargar el archivo que te ha entregado la empresa. Aceptamos CSV, Excel o incluso JSON."
   ]
  },
  {
   "cell_type": "code",
   "execution_count": 15,
   "id": "9c0c6eef",
   "metadata": {},
   "outputs": [
    {
     "data": {
      "text/html": [
       "<div>\n",
       "<style scoped>\n",
       "    .dataframe tbody tr th:only-of-type {\n",
       "        vertical-align: middle;\n",
       "    }\n",
       "\n",
       "    .dataframe tbody tr th {\n",
       "        vertical-align: top;\n",
       "    }\n",
       "\n",
       "    .dataframe thead th {\n",
       "        text-align: right;\n",
       "    }\n",
       "</style>\n",
       "<table border=\"1\" class=\"dataframe\">\n",
       "  <thead>\n",
       "    <tr style=\"text-align: right;\">\n",
       "      <th></th>\n",
       "      <th>Ticker</th>\n",
       "      <th>Date</th>\n",
       "      <th>Open</th>\n",
       "      <th>High</th>\n",
       "      <th>Low</th>\n",
       "      <th>Close</th>\n",
       "      <th>Adj Close</th>\n",
       "      <th>Volume</th>\n",
       "    </tr>\n",
       "  </thead>\n",
       "  <tbody>\n",
       "    <tr>\n",
       "      <th>0</th>\n",
       "      <td>GBP=X</td>\n",
       "      <td>2008-08-01</td>\n",
       "      <td>0.50441</td>\n",
       "      <td>0.5068</td>\n",
       "      <td>0.50396</td>\n",
       "      <td>0.50651</td>\n",
       "      <td>0.50651</td>\n",
       "      <td>0.0</td>\n",
       "    </tr>\n",
       "    <tr>\n",
       "      <th>1</th>\n",
       "      <td>AUD=X</td>\n",
       "      <td>2008-08-01</td>\n",
       "      <td>1.06430</td>\n",
       "      <td>1.0765</td>\n",
       "      <td>1.06390</td>\n",
       "      <td>1.07270</td>\n",
       "      <td>1.07270</td>\n",
       "      <td>0.0</td>\n",
       "    </tr>\n",
       "    <tr>\n",
       "      <th>2</th>\n",
       "      <td>CAD=X</td>\n",
       "      <td>2008-08-01</td>\n",
       "      <td>1.02340</td>\n",
       "      <td>1.0294</td>\n",
       "      <td>1.02290</td>\n",
       "      <td>1.02460</td>\n",
       "      <td>1.02460</td>\n",
       "      <td>0.0</td>\n",
       "    </tr>\n",
       "    <tr>\n",
       "      <th>3</th>\n",
       "      <td>CHF=X</td>\n",
       "      <td>2008-08-01</td>\n",
       "      <td>1.04800</td>\n",
       "      <td>1.0512</td>\n",
       "      <td>1.04640</td>\n",
       "      <td>1.05040</td>\n",
       "      <td>1.05040</td>\n",
       "      <td>0.0</td>\n",
       "    </tr>\n",
       "    <tr>\n",
       "      <th>4</th>\n",
       "      <td>CNY=X</td>\n",
       "      <td>2008-08-01</td>\n",
       "      <td>6.83600</td>\n",
       "      <td>6.8554</td>\n",
       "      <td>6.82100</td>\n",
       "      <td>6.84700</td>\n",
       "      <td>6.84700</td>\n",
       "      <td>0.0</td>\n",
       "    </tr>\n",
       "  </tbody>\n",
       "</table>\n",
       "</div>"
      ],
      "text/plain": [
       "  Ticker        Date     Open    High      Low    Close  Adj Close  Volume\n",
       "0  GBP=X  2008-08-01  0.50441  0.5068  0.50396  0.50651    0.50651     0.0\n",
       "1  AUD=X  2008-08-01  1.06430  1.0765  1.06390  1.07270    1.07270     0.0\n",
       "2  CAD=X  2008-08-01  1.02340  1.0294  1.02290  1.02460    1.02460     0.0\n",
       "3  CHF=X  2008-08-01  1.04800  1.0512  1.04640  1.05040    1.05040     0.0\n",
       "4  CNY=X  2008-08-01  6.83600  6.8554  6.82100  6.84700    6.84700     0.0"
      ]
     },
     "execution_count": 15,
     "metadata": {},
     "output_type": "execute_result"
    }
   ],
   "source": [
    "# Cargamos el archivo\n",
    "archivo = \"../data/todas_tasas_cambio.csv\"\n",
    "df = pd.read_csv(archivo, encoding=\"latin1\")\n",
    "\n",
    "# Detección automática de extensión\n",
    "if archivo.endswith(\".csv\"):\n",
    "    df = pd.read_csv(archivo)\n",
    "elif archivo.endswith(\".xlsx\"):\n",
    "    df = pd.read_excel(archivo)\n",
    "elif archivo.endswith(\".json\"):\n",
    "    df = pd.read_json(archivo)\n",
    "else:\n",
    "    raise ValueError(\"Formato de archivo no soportado\")\n",
    "\n",
    "df.head()\n"
   ]
  },
  {
   "cell_type": "markdown",
   "id": "3787d0c3",
   "metadata": {},
   "source": [
    "4. Inspección y estructura básica\n",
    "\n",
    "    Inspección de columnas y tipos:\n",
    "\n",
    "    Revisamos nombres, tipos y valores nulos para preparar la normalización.\n",
    "\n"
   ]
  },
  {
   "cell_type": "code",
   "execution_count": 14,
   "id": "196dc08a",
   "metadata": {},
   "outputs": [
    {
     "name": "stdout",
     "output_type": "stream",
     "text": [
      "<class 'pandas.core.frame.DataFrame'>\n",
      "RangeIndex: 38982 entries, 0 to 38981\n",
      "Data columns (total 8 columns):\n",
      " #   Column     Non-Null Count  Dtype  \n",
      "---  ------     --------------  -----  \n",
      " 0   Ticker     38982 non-null  object \n",
      " 1   Date       38982 non-null  object \n",
      " 2   Open       38982 non-null  float64\n",
      " 3   High       38982 non-null  float64\n",
      " 4   Low        38982 non-null  float64\n",
      " 5   Close      38982 non-null  float64\n",
      " 6   Adj Close  38982 non-null  float64\n",
      " 7   Volume     38982 non-null  float64\n",
      "dtypes: float64(6), object(2)\n",
      "memory usage: 2.4+ MB\n"
     ]
    },
    {
     "data": {
      "text/plain": [
       "Ticker       0\n",
       "Date         0\n",
       "Open         0\n",
       "High         0\n",
       "Low          0\n",
       "Close        0\n",
       "Adj Close    0\n",
       "Volume       0\n",
       "dtype: int64"
      ]
     },
     "execution_count": 14,
     "metadata": {},
     "output_type": "execute_result"
    }
   ],
   "source": [
    "df.info()\n",
    "df.describe()\n",
    "df.isnull().sum()"
   ]
  },
  {
   "cell_type": "markdown",
   "id": "5718e4e1",
   "metadata": {},
   "source": [
    "5. Normalización de columnas\n",
    "\n",
    "    Renombrado y estandarización:\n",
    "\n",
    "    Ejemplo para transformar columnas como:\n",
    "\n",
    "    - `Fecha de operación` → `fecha`\n",
    "    - `Moneda origen` → `divisa_origen`\n",
    "    - `Monto vendido` → `cantidad`\n"
   ]
  },
  {
   "cell_type": "code",
   "execution_count": null,
   "id": "85e0d5a0",
   "metadata": {},
   "outputs": [],
   "source": [
    "df.columns = df.columns.str.lower().str.strip().str.replace(\" \", \"_\")\n",
    "\n",
    "df = df.rename(columns={\n",
    "    \"fecha_operacion\": \"fecha\",\n",
    "    \"divisa_origen\": \"moneda_origen\",\n",
    "    \"divisa_destino\": \"moneda_destino\",\n",
    "    \"monto_vendido\": \"cantidad\",\n",
    "    \"tipo_cambio\": \"tasa\"\n",
    "})\n"
   ]
  },
  {
   "cell_type": "markdown",
   "id": "732ef38b",
   "metadata": {},
   "source": [
    "6. Conversión de fechas\n",
    "\n",
    "    Conversión de columna de fecha:\n",
    "\n",
    "    Normalizamos la columna de fecha para asegurar análisis temporal correcto.\n"
   ]
  },
  {
   "cell_type": "code",
   "execution_count": null,
   "id": "e48fbcae",
   "metadata": {},
   "outputs": [],
   "source": [
    "df[\"fecha\"] = pd.to_datetime(df[\"fecha\"], errors=\"coerce\")\n",
    "df = df.sort_values(\"fecha\").dropna(subset=[\"fecha\"])\n"
   ]
  },
  {
   "cell_type": "markdown",
   "id": "4ea6e545",
   "metadata": {},
   "source": [
    "7. Exploración rápida del contenido"
   ]
  },
  {
   "cell_type": "code",
   "execution_count": null,
   "id": "f936041a",
   "metadata": {},
   "outputs": [],
   "source": [
    "# Ver divisas más frecuentes\n",
    "print(\"Monedas más frecuentes:\", df[\"moneda_origen\"].value_counts().head())\n",
    "\n",
    "# Ver rango de fechas disponible\n",
    "print(\"Desde:\", df[\"fecha\"].min(), \"| Hasta:\", df[\"fecha\"].max())\n",
    "\n",
    "# Ver tipos de operación si aplica\n",
    "if \"tipo_operacion\" in df.columns:\n",
    "    print(\"Tipos de operación:\", df[\"tipo_operacion\"].unique())\n"
   ]
  },
  {
   "cell_type": "markdown",
   "id": "44078f18",
   "metadata": {},
   "source": [
    "8. Exportación para análisis\n",
    "\n",
    "    Guardar archivo limpio:\n",
    "\n",
    "    Guardamos el archivo limpio para usar en los siguientes cuadernos.\n"
   ]
  },
  {
   "cell_type": "code",
   "execution_count": null,
   "id": "495116bb",
   "metadata": {},
   "outputs": [],
   "source": [
    "df.to_csv(\"data/dataset_limpio.csv\", index=False)\n",
    "print(\"Archivo exportado: data/dataset_limpio.csv\")"
   ]
  },
  {
   "cell_type": "markdown",
   "id": "ef003490",
   "metadata": {},
   "source": [
    "Este cuaderno te garantiza una entrada robusta sin importar cómo venga el dataset."
   ]
  },
  {
   "cell_type": "markdown",
   "id": "b2b972af",
   "metadata": {},
   "source": [
    "9. Importación y filtrado de tasas de cambio históricas"
   ]
  },
  {
   "cell_type": "code",
   "execution_count": null,
   "id": "279e8fca",
   "metadata": {},
   "outputs": [],
   "source": [
    "# Fijamos las divisas objetivo\n",
    "divisas_objetivo = [\"CNY\", \"JPY\", \"MAD\", \"MXN\", \"TRY\", \"USD\", \"EUR\"]\n",
    "\n",
    "# Ruta al archivo que descargaste de Kaggle\n",
    "ruta_csv_tasas = \"data/exchange_rates_usd.csv\"\n",
    "df_tasas_raw = pd.read_csv(ruta_csv_tasas)\n",
    "\n",
    "# Conversión y filtrado\n",
    "df_tasas = df_tasas_raw[df_tasas_raw[\"ISO Code\"].isin(divisas_objetivo)].copy()\n",
    "df_tasas[\"Date\"] = pd.to_datetime(df_tasas[\"Date\"], dayfirst=False)\n",
    "df_tasas = df_tasas.rename(columns={\n",
    "    \"ISO Code\": \"divisa\",\n",
    "    \"Value (USD)\": \"tasa_usd\",\n",
    "    \"Date\": \"fecha\"\n",
    "}).sort_values([\"divisa\", \"fecha\"]).reset_index(drop=True)\n",
    "\n",
    "df_tasas.head()"
   ]
  },
  {
   "cell_type": "code",
   "execution_count": null,
   "id": "ff665409",
   "metadata": {},
   "outputs": [],
   "source": [
    "## Guardamos el resultado limpio para usar más adelante\n",
    "\n",
    "df_tasas.to_csv(\"data/tasas_filtradas.csv\", index=False)\n",
    "print(\"Archivo exportado: data/tasas_filtradas.csv\")"
   ]
  },
  {
   "cell_type": "markdown",
   "id": "9f579839",
   "metadata": {},
   "source": [
    "10. Convertir tasas USD → EUR"
   ]
  },
  {
   "cell_type": "code",
   "execution_count": null,
   "id": "f6e6af1c",
   "metadata": {},
   "outputs": [],
   "source": [
    "# Añadimos conversión de tasas desde USD a base EUR\n",
    "df_tasas[\"fecha\"] = pd.to_datetime(df_tasas[\"fecha\"])\n",
    "\n",
    "# Extraemos EUR/USD por fecha (tasa inversa: cuánto USD vale 1 EUR)\n",
    "eur_usd = df_tasas[df_tasas[\"divisa\"] == \"EUR\"][[\"fecha\", \"tasa_usd\"]].rename(columns={\"tasa_usd\": \"tasa_eur_usd\"})\n",
    "\n",
    "# Unimos por fecha para tener referencia cruzada\n",
    "df_tasas = df_tasas.merge(eur_usd, on=\"fecha\", how=\"inner\")\n",
    "\n",
    "# Calculamos tasa respecto al EUR\n",
    "df_tasas[\"tasa_eur\"] = df_tasas[\"tasa_usd\"] / df_tasas[\"tasa_eur_usd\"]\n",
    "\n",
    "# Redondeamos un poco para legibilidad\n",
    "df_tasas[\"tasa_eur\"] = df_tasas[\"tasa_eur\"].round(5)\n",
    "\n",
    "# Eliminamos las columnas que ya no necesitamos\n",
    "df_tasas_final = df_tasas[[\"fecha\", \"divisa\", \"tasa_eur\"]].sort_values([\"divisa\", \"fecha\"])\n",
    "\n",
    "df_tasas_final.head()"
   ]
  },
  {
   "cell_type": "code",
   "execution_count": null,
   "id": "1adae2f4",
   "metadata": {},
   "outputs": [],
   "source": [
    "# Guardamos la tabla ya normalizada en EUR\n",
    "\n",
    "df_tasas_final.to_csv(\"data/tasas_en_eur.csv\", index=False)\n",
    "print(\"Tasas convertidas a EUR guardadas en: data/tasas_en_eur.csv\")"
   ]
  }
 ],
 "metadata": {
  "kernelspec": {
   "display_name": "Python 3",
   "language": "python",
   "name": "python3"
  },
  "language_info": {
   "codemirror_mode": {
    "name": "ipython",
    "version": 3
   },
   "file_extension": ".py",
   "mimetype": "text/x-python",
   "name": "python",
   "nbconvert_exporter": "python",
   "pygments_lexer": "ipython3",
   "version": "3.12.1"
  }
 },
 "nbformat": 4,
 "nbformat_minor": 5
}
