{
 "cells": [
  {
   "cell_type": "code",
   "execution_count": 1,
   "id": "30cd4788",
   "metadata": {},
   "outputs": [
    {
     "name": "stdout",
     "output_type": "stream",
     "text": [
      "✅ Dataset consolidado guardado como todas_tasas_cambio.csv\n"
     ]
    }
   ],
   "source": [
    "import pandas as pd\n",
    "import os\n",
    "\n",
    "carpeta = \"../data/kaggle_raw\"\n",
    "archivos = sorted([f for f in os.listdir(carpeta) if f.endswith(\".csv\")])\n",
    "\n",
    "df_completo = pd.concat([\n",
    "    pd.read_csv(os.path.join(carpeta, archivo)) for archivo in archivos\n",
    "], ignore_index=True)\n",
    "\n",
    "# Guardamos el dataset completo\n",
    "df_completo.to_csv(\"../data/todas_tasas_cambio.csv\", index=False)\n",
    "print(\"✅ Dataset consolidado guardado como todas_tasas_cambio.csv\")"
   ]
  }
 ],
 "metadata": {
  "kernelspec": {
   "display_name": "Python 3",
   "language": "python",
   "name": "python3"
  },
  "language_info": {
   "codemirror_mode": {
    "name": "ipython",
    "version": 3
   },
   "file_extension": ".py",
   "mimetype": "text/x-python",
   "name": "python",
   "nbconvert_exporter": "python",
   "pygments_lexer": "ipython3",
   "version": "3.12.1"
  }
 },
 "nbformat": 4,
 "nbformat_minor": 5
}
