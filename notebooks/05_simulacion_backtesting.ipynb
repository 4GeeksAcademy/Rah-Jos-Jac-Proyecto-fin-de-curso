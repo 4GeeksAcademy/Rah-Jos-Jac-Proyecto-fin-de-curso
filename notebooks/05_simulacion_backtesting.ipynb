{
 "cells": [
  {
   "cell_type": "markdown",
   "id": "170be7cb",
   "metadata": {},
   "source": [
    "1. Introducción\n",
    "\n",
    "    Backtesting de la Estrategia de Compra de Divisas\n",
    "\n",
    "    Simulamos la estrategia de compra óptima en datos históricos para:\n",
    "    - Comparar el coste real vs. coste optimizado\n",
    "    - Medir mejora en márgenes\n",
    "    - Evaluar cobertura de la demanda\n",
    "\n",
    "    Esto valida el impacto económico del sistema antes de desplegarlo.\n"
   ]
  },
  {
   "cell_type": "markdown",
   "id": "449bc36f",
   "metadata": {},
   "source": [
    "2. Librerías"
   ]
  },
  {
   "cell_type": "code",
   "execution_count": null,
   "id": "572bd612",
   "metadata": {},
   "outputs": [],
   "source": [
    "import pandas as pd\n",
    "import numpy as np\n",
    "import matplotlib.pyplot as plt\n",
    "import seaborn as sns\n"
   ]
  },
  {
   "cell_type": "markdown",
   "id": "13ae87ed",
   "metadata": {},
   "source": [
    "3. Carga de datos históricos\n",
    "\n",
    "    Cargamos operaciones pasadas reales\n",
    "\n",
    "    Usamos registros históricos: compras realizadas, tasas aplicadas y volumen de divisa intercambiado.\n"
   ]
  },
  {
   "cell_type": "code",
   "execution_count": null,
   "id": "30dfcd5b",
   "metadata": {},
   "outputs": [],
   "source": [
    "compras_reales = pd.read_csv(\"data/compras_hist.csv\", parse_dates=[\"fecha\"])\n",
    "tasas_reales = pd.read_csv(\"data/tasas_hist.csv\", parse_dates=[\"fecha\"])\n",
    "demanda_real = pd.read_csv(\"data/demanda_real.csv\", parse_dates=[\"fecha\"])\n"
   ]
  },
  {
   "cell_type": "markdown",
   "id": "c1e8c384",
   "metadata": {},
   "source": [
    "4. Simulación con estrategia optimizada\n",
    "\n",
    "    Aplicamos la estrategia de optimización histórica\n",
    "\n",
    "    Simulamos qué cantidad se habría comprado con las tasas reales, usando el sistema de optimización sobre la demanda pasada.\n",
    "\n",
    "    Compararemos contra lo que se compró en realidad.\n"
   ]
  },
  {
   "cell_type": "code",
   "execution_count": null,
   "id": "5fea58d6",
   "metadata": {},
   "outputs": [],
   "source": [
    "# Simulación simple\n",
    "df_merged = pd.merge(demanda_real, tasas_reales, on=[\"fecha\", \"divisa\"])\n",
    "df_merged[\"coste_optimo\"] = df_merged[\"cantidad\"] * df_merged[\"tasa\"]  # simulando compra total diaria\n",
    "\n",
    "compras_reales[\"coste_real\"] = compras_reales[\"cantidad\"] * compras_reales[\"tasa\"]\n"
   ]
  },
  {
   "cell_type": "markdown",
   "id": "fca13809",
   "metadata": {},
   "source": [
    "5. Comparación de resultados\n",
    "\n",
    "    Comparativa de costes: real vs. optimizado\n",
    "\n",
    "    Calculamos ahorro en euros, mejora porcentual y cobertura de demanda por divisa.\n"
   ]
  },
  {
   "cell_type": "code",
   "execution_count": null,
   "id": "6b8f6131",
   "metadata": {},
   "outputs": [],
   "source": [
    "total_real = compras_reales[\"coste_real\"].sum()\n",
    "total_simulado = df_merged[\"coste_optimo\"].sum()\n",
    "ahorro = total_real - total_simulado\n",
    "mejora_pct = 100 * ahorro / total_real\n",
    "\n",
    "print(f\"Ahorro total simulado: €{ahorro:,.2f} ({mejora_pct:.2f}%)\")\n"
   ]
  },
  {
   "cell_type": "markdown",
   "id": "29cb3031",
   "metadata": {},
   "source": [
    "6. Visualización\n",
    "\n",
    "    Impacto visual de la optimización\n",
    "\n",
    "    Graficamos el coste de compra real y el estimado día a día para entender cómo fluctúa el rendimiento del sistema.\n",
    "\n"
   ]
  },
  {
   "cell_type": "code",
   "execution_count": null,
   "id": "cb2611c0",
   "metadata": {},
   "outputs": [],
   "source": [
    "plt.figure(figsize=(12, 4))\n",
    "plt.plot(df_merged[\"fecha\"], df_merged[\"coste_optimo\"], label=\"Coste simulado\", linestyle=\"--\")\n",
    "plt.plot(compras_reales[\"fecha\"], compras_reales[\"coste_real\"], label=\"Coste real\")\n",
    "plt.title(\"Comparación de coste de compra de divisas\")\n",
    "plt.ylabel(\"Euros\")\n",
    "plt.legend()\n",
    "plt.tight_layout()\n",
    "plt.show()\n"
   ]
  },
  {
   "cell_type": "markdown",
   "id": "a510a131",
   "metadata": {},
   "source": [
    "7. Conclusiones\n",
    "\n",
    "    Conclusión del Backtest\n",
    "\n",
    "    El backtesting proporciona evidencia objetiva del valor de tu sistema.\n",
    "\n",
    "    Puedes ahora:\n",
    "    - Calcular retorno de inversión (ROI)\n",
    "    - Simular diferentes presupuestos\n",
    "    - Decidir si expandir la estrategia a otras divisas\n",
    "\n",
    "    Esto alimentará el informe final del proyecto.\n"
   ]
  }
 ],
 "metadata": {
  "language_info": {
   "name": "python"
  }
 },
 "nbformat": 4,
 "nbformat_minor": 5
}
